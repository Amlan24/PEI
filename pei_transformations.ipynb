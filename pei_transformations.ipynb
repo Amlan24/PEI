{
 "cells": [
  {
   "cell_type": "code",
   "execution_count": 0,
   "metadata": {
    "application/vnd.databricks.v1+cell": {
     "cellMetadata": {
      "byteLimit": 2048000,
      "rowLimit": 10000
     },
     "inputWidgets": {},
     "nuid": "8aaff4df-6491-4db4-aaa1-9dd8b0c322c7",
     "showTitle": false,
     "tableResultSettingsMap": {},
     "title": ""
    }
   },
   "outputs": [
    {
     "output_type": "stream",
     "name": "stdout",
     "output_type": "stream",
     "text": [
      "Python interpreter will be restarted.\nCollecting openpyxl\n  Downloading openpyxl-3.1.5-py2.py3-none-any.whl (250 kB)\nRequirement already satisfied: pandas in /databricks/python3/lib/python3.9/site-packages (1.4.2)\nCollecting et-xmlfile\n  Downloading et_xmlfile-2.0.0-py3-none-any.whl (18 kB)\nRequirement already satisfied: python-dateutil>=2.8.1 in /databricks/python3/lib/python3.9/site-packages (from pandas) (2.8.2)\nRequirement already satisfied: numpy>=1.18.5 in /databricks/python3/lib/python3.9/site-packages (from pandas) (1.21.5)\nRequirement already satisfied: pytz>=2020.1 in /databricks/python3/lib/python3.9/site-packages (from pandas) (2021.3)\nRequirement already satisfied: six>=1.5 in /databricks/python3/lib/python3.9/site-packages (from python-dateutil>=2.8.1->pandas) (1.16.0)\nInstalling collected packages: et-xmlfile, openpyxl\nSuccessfully installed et-xmlfile-2.0.0 openpyxl-3.1.5\nPython interpreter will be restarted.\n"
     ]
    }
   ],
   "source": [
    "pip install openpyxl pandas"
   ]
  },
  {
   "cell_type": "code",
   "execution_count": 0,
   "metadata": {
    "application/vnd.databricks.v1+cell": {
     "cellMetadata": {
      "byteLimit": 2048000,
      "rowLimit": 10000
     },
     "inputWidgets": {},
     "nuid": "a5d0fab3-8795-4f3d-a35f-653e67430f25",
     "showTitle": false,
     "tableResultSettingsMap": {},
     "title": ""
    }
   },
   "outputs": [
    {
     "output_type": "stream",
     "name": "stdout",
     "output_type": "stream",
     "text": [
      "Out[5]: [FileInfo(path='dbfs:/FileStore/uploads/Customer.xlsx', name='Customer.xlsx', size=89424, modificationTime=1749473452000),\n FileInfo(path='dbfs:/FileStore/uploads/Orders.json', name='Orders.json', size=3045599, modificationTime=1749473453000),\n FileInfo(path='dbfs:/FileStore/uploads/Products.csv', name='Products.csv', size=173396, modificationTime=1749473451000)]"
     ]
    }
   ],
   "source": [
    "dbutils.fs.ls(\"dbfs:/FileStore/uploads\")\n"
   ]
  },
  {
   "cell_type": "code",
   "execution_count": 0,
   "metadata": {
    "application/vnd.databricks.v1+cell": {
     "cellMetadata": {
      "byteLimit": 2048000,
      "rowLimit": 10000
     },
     "inputWidgets": {},
     "nuid": "0a233fe5-dd09-42e0-a933-dfe4f31082d1",
     "showTitle": false,
     "tableResultSettingsMap": {},
     "title": ""
    }
   },
   "outputs": [],
   "source": [
    "product_path = '/dbfs/FileStore/uploads/Products.csv'\n",
    "customer_path = '/dbfs/FileStore/uploads/Customer.xlsx'\n",
    "order_path = '/dbfs/FileStore/uploads/Orders.json'"
   ]
  },
  {
   "cell_type": "code",
   "execution_count": 0,
   "metadata": {
    "application/vnd.databricks.v1+cell": {
     "cellMetadata": {
      "byteLimit": 2048000,
      "rowLimit": 10000
     },
     "inputWidgets": {},
     "nuid": "7e00123a-6c92-4adc-9fba-07cd9449fcd7",
     "showTitle": false,
     "tableResultSettingsMap": {},
     "title": ""
    }
   },
   "outputs": [
    {
     "output_type": "display_data",
     "data": {
      "text/html": [
       "<style scoped>\n",
       "  .table-result-container {\n",
       "    max-height: 300px;\n",
       "    overflow: auto;\n",
       "  }\n",
       "  table, th, td {\n",
       "    border: 1px solid black;\n",
       "    border-collapse: collapse;\n",
       "  }\n",
       "  th, td {\n",
       "    padding: 5px;\n",
       "  }\n",
       "  th {\n",
       "    text-align: left;\n",
       "  }\n",
       "</style><div class='table-result-container'><table class='table-result'><thead style='background-color: white'><tr><th>path</th><th>name</th><th>size</th><th>modificationTime</th></tr></thead><tbody><tr><td>dbfs:/FileStore/uploads/Customer.xlsx</td><td>Customer.xlsx</td><td>89424</td><td>1749473452000</td></tr><tr><td>dbfs:/FileStore/uploads/Orders.json</td><td>Orders.json</td><td>3045599</td><td>1749473453000</td></tr><tr><td>dbfs:/FileStore/uploads/Products.csv</td><td>Products.csv</td><td>173396</td><td>1749473451000</td></tr></tbody></table></div>"
      ]
     },
     "metadata": {
      "application/vnd.databricks.v1+output": {
       "addedWidgets": {},
       "aggData": [],
       "aggError": "",
       "aggOverflow": false,
       "aggSchema": [],
       "aggSeriesLimitReached": false,
       "aggType": "",
       "arguments": {},
       "columnCustomDisplayInfos": {},
       "data": [
        [
         "dbfs:/FileStore/uploads/Customer.xlsx",
         "Customer.xlsx",
         89424,
         1749473452000
        ],
        [
         "dbfs:/FileStore/uploads/Orders.json",
         "Orders.json",
         3045599,
         1749473453000
        ],
        [
         "dbfs:/FileStore/uploads/Products.csv",
         "Products.csv",
         173396,
         1749473451000
        ]
       ],
       "datasetInfos": [],
       "dbfsResultPath": null,
       "isJsonSchema": true,
       "metadata": {},
       "overflow": false,
       "plotOptions": {
        "customPlotOptions": {},
        "displayType": "table",
        "pivotAggregation": null,
        "pivotColumns": null,
        "xColumns": null,
        "yColumns": null
       },
       "removedWidgets": [],
       "schema": [
        {
         "metadata": "{}",
         "name": "path",
         "type": "\"string\""
        },
        {
         "metadata": "{}",
         "name": "name",
         "type": "\"string\""
        },
        {
         "metadata": "{}",
         "name": "size",
         "type": "\"long\""
        },
        {
         "metadata": "{}",
         "name": "modificationTime",
         "type": "\"long\""
        }
       ],
       "type": "table"
      }
     },
     "output_type": "display_data"
    }
   ],
   "source": [
    "display(dbutils.fs.ls(\"dbfs:/FileStore/uploads/\"))\n"
   ]
  },
  {
   "cell_type": "code",
   "execution_count": 0,
   "metadata": {
    "application/vnd.databricks.v1+cell": {
     "cellMetadata": {
      "byteLimit": 2048000,
      "rowLimit": 10000
     },
     "inputWidgets": {},
     "nuid": "8056c68a-f09d-47e3-8658-551b8754e5cb",
     "showTitle": false,
     "tableResultSettingsMap": {},
     "title": ""
    }
   },
   "outputs": [],
   "source": [
    "from pyspark.sql import SparkSession\n",
    "\n",
    "spark = SparkSession.builder.appName(\"PEI\").getOrCreate()"
   ]
  },
  {
   "cell_type": "code",
   "execution_count": 0,
   "metadata": {
    "application/vnd.databricks.v1+cell": {
     "cellMetadata": {},
     "inputWidgets": {},
     "nuid": "46b8e9d7-532a-45fa-8f47-7333fbc5027d",
     "showTitle": false,
     "tableResultSettingsMap": {},
     "title": ""
    }
   },
   "outputs": [],
   "source": [
    "p_df = pd.read_excel(customer_path, sheet_name=\"Customer\", engine=\"openpyxl\")\n",
    "\n",
    "#converting to spark df from pandas\n",
    "\n",
    "customer_df = spark.createDataFrame(p_df)\n",
    "\n",
    "\n",
    "\n",
    "order_df = df = spark.read.json(order_path)\n",
    "\n",
    "product_df = spark.read.format(\"csv\") \\\n",
    "    .option(\"header\", \"true\") \\           \n",
    "    .option(\"inferSchema\", \"true\") \\     \n",
    "    .option(\"sep\", \",\") \\                  \n",
    "    .load(product_path)\n",
    "\n",
    "\n"
   ]
  },
  {
   "cell_type": "code",
   "execution_count": 0,
   "metadata": {
    "application/vnd.databricks.v1+cell": {
     "cellMetadata": {},
     "inputWidgets": {},
     "nuid": "81fde9e0-6568-4718-a85a-81e5b116059a",
     "showTitle": false,
     "tableResultSettingsMap": {},
     "title": ""
    }
   },
   "outputs": [],
   "source": [
    "#creating raw tables\n",
    "customer_df.write.format(\"delta\").mode(\"overwrite\").saveAsTable(\"customer_table\")\n",
    "order_df.write.format(\"delta\").mode(\"overwrite\").saveAsTable(\"order_table\")\n",
    "product_df.write.format(\"delta\").mode(\"overwrite\").saveAsTable(\"product_table\")\n"
   ]
  },
  {
   "cell_type": "code",
   "execution_count": 0,
   "metadata": {
    "application/vnd.databricks.v1+cell": {
     "cellMetadata": {},
     "inputWidgets": {},
     "nuid": "b6dcbde8-dbcf-46cf-a85e-ae6237f6d0c2",
     "showTitle": false,
     "tableResultSettingsMap": {},
     "title": ""
    }
   },
   "outputs": [],
   "source": [
    "#creating enriched tables for customer and product\n",
    "enriched_df = customer_df.join(product_df, on=\"Customer ID\", how=\"inner\")\n",
    "enriched_df = enriched_df.withColumn(\"profit_rounded\", round(col(\"Profit\"), 2))\n",
    "enriched_df.write.format(\"delta\").mode(\"overwrite\").saveAsTable(\"enriched_customers_products\")\n"
   ]
  },
  {
   "cell_type": "code",
   "execution_count": 0,
   "metadata": {
    "application/vnd.databricks.v1+cell": {
     "cellMetadata": {},
     "inputWidgets": {},
     "nuid": "5e4f196a-efee-4941-8a09-d45f5bdb1aeb",
     "showTitle": false,
     "tableResultSettingsMap": {},
     "title": ""
    }
   },
   "outputs": [],
   "source": [
    "orders_products_df = order_df.join(product_df, \"Customer ID\", \"inner\")\n"
   ]
  },
  {
   "cell_type": "code",
   "execution_count": 0,
   "metadata": {
    "application/vnd.databricks.v1+cell": {
     "cellMetadata": {},
     "inputWidgets": {},
     "nuid": "9275395b-bfbc-42de-ba54-623639fa40f0",
     "showTitle": false,
     "tableResultSettingsMap": {},
     "title": ""
    }
   },
   "outputs": [],
   "source": [
    "#entiched table category and sub category\n",
    "final_df = enriched_df.select(\n",
    "    \"Order ID\",\n",
    "    \"Customer Name\",\n",
    "    \"Country\",\n",
    "    \"Category\",\n",
    "    \"Sub-Category\",\n",
    "    \"profit_rounded\"\n",
    ")\n",
    "\n",
    "final_df.write.format(\"delta\").mode(\"overwrite\").saveAsTable(\"enriched_orders_customers_products\")\n"
   ]
  },
  {
   "cell_type": "code",
   "execution_count": 0,
   "metadata": {
    "application/vnd.databricks.v1+cell": {
     "cellMetadata": {},
     "inputWidgets": {},
     "nuid": "82911b7e-49b7-4480-b59c-077a7d4af474",
     "showTitle": false,
     "tableResultSettingsMap": {},
     "title": ""
    }
   },
   "outputs": [],
   "source": [
    "#aggregate table\n",
    "agg_df = orders_products_df.join(customers_df, on=\"Customer ID\", how=\"left\") \\\n",
    "    .withColumn(\"Order Year\", year(\"Order Date\")) \\\n",
    "    .groupBy(\n",
    "        \"Order Year\", \n",
    "        \"Category\", \n",
    "        \"Sub-Category\", \n",
    "        \"Customer Name\"\n",
    "    ) \\\n",
    "    .agg(\n",
    "        round(sum(\"Profit\"), 2).alias(\"Total Profit\")\n",
    "    )\n",
    "\n",
    "\n",
    "agg_df.write.format(\"delta\") \\\n",
    "    .mode(\"overwrite\") \\\n",
    "    .saveAsTable(\"agg_profit_by_year_category_customer\")"
   ]
  },
  {
   "cell_type": "code",
   "execution_count": 0,
   "metadata": {
    "application/vnd.databricks.v1+cell": {
     "cellMetadata": {},
     "inputWidgets": {},
     "nuid": "f0ae6241-18af-4542-a38f-47a569f12df5",
     "showTitle": false,
     "tableResultSettingsMap": {},
     "title": ""
    }
   },
   "outputs": [],
   "source": [
    "%sql\n",
    "--profit by year\n",
    "SELECT\n",
    "  YEAR(`Order Date`) AS Order_Year,\n",
    "  ROUND(SUM(Profit), 2) AS Total_Profit\n",
    "FROM order_table\n",
    "GROUP BY YEAR(`Order Date`)\n",
    "ORDER BY Order_Year;\n"
   ]
  },
  {
   "cell_type": "code",
   "execution_count": 0,
   "metadata": {
    "application/vnd.databricks.v1+cell": {
     "cellMetadata": {},
     "inputWidgets": {},
     "nuid": "a9e6a66e-0b29-4e2f-857d-cfd87e82fb54",
     "showTitle": false,
     "tableResultSettingsMap": {},
     "title": ""
    }
   },
   "outputs": [],
   "source": [
    "%sql\n",
    "-- profit by year product category\n",
    "SELECT\n",
    "  YEAR(o.`Order Date`) AS Order_Year,\n",
    "  p.`Category`,\n",
    "  ROUND(SUM(o.Profit), 2) AS Total_Profit\n",
    "FROM order_table o\n",
    "JOIN product_table p ON o.`Product ID` = p.`Product ID`\n",
    "GROUP BY YEAR(o.`Order Date`), p.`Category`\n",
    "ORDER BY Order_Year, p.`Category`;\n"
   ]
  },
  {
   "cell_type": "code",
   "execution_count": 0,
   "metadata": {
    "application/vnd.databricks.v1+cell": {
     "cellMetadata": {},
     "inputWidgets": {},
     "nuid": "5b9eab15-ed98-43d9-8694-a973f5b772a6",
     "showTitle": false,
     "tableResultSettingsMap": {},
     "title": ""
    }
   },
   "outputs": [],
   "source": [
    "%sql\n",
    "--profit by customer\n",
    "SELECT\n",
    "  c.`Customer Name`,\n",
    "  ROUND(SUM(o.Profit), 2) AS Total_Profit\n",
    "FROM order_table o\n",
    "JOIN customer_table c ON o.`Customer ID` = c.`Customer ID`\n",
    "GROUP BY c.`Customer Name`\n",
    "ORDER BY Total_Profit DESC;\n"
   ]
  },
  {
   "cell_type": "code",
   "execution_count": 0,
   "metadata": {
    "application/vnd.databricks.v1+cell": {
     "cellMetadata": {},
     "inputWidgets": {},
     "nuid": "75c84d47-cd67-4d67-9ee0-34805753fd67",
     "showTitle": false,
     "tableResultSettingsMap": {},
     "title": ""
    }
   },
   "outputs": [],
   "source": [
    "%sql\n",
    "--profit by cusotmer year\n",
    "SELECT\n",
    "  c.`Customer Name`,\n",
    "  YEAR(o.`Order Date`) AS Order_Year,\n",
    "  ROUND(SUM(o.Profit), 2) AS Total_Profit\n",
    "FROM order_table o\n",
    "JOIN customer_table c ON o.`Customer ID` = c.`Customer ID`\n",
    "GROUP BY c.`Customer Name`, YEAR(o.`Order Date`)\n",
    "ORDER BY c.`Customer Name`, Order_Year;\n"
   ]
  }
 ],
 "metadata": {
  "application/vnd.databricks.v1+notebook": {
   "computePreferences": null,
   "dashboards": [],
   "environmentMetadata": {
    "base_environment": "",
    "environment_version": "1"
   },
   "inputWidgetPreferences": null,
   "language": "python",
   "notebookMetadata": {
    "pythonIndentUnit": 4
   },
   "notebookName": "pei_transformations",
   "widgets": {}
  }
 },
 "nbformat": 4,
 "nbformat_minor": 0
}